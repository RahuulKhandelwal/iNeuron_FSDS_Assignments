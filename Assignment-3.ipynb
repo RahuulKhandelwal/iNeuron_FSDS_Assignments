{
 "cells": [
  {
   "cell_type": "code",
   "execution_count": null,
   "id": "736d70eb",
   "metadata": {},
   "outputs": [],
   "source": [
    "Q1. Why are functions advantageous to have in your programs?"
   ]
  },
  {
   "cell_type": "code",
   "execution_count": null,
   "id": "b175a117",
   "metadata": {},
   "outputs": [],
   "source": [
    "Answer1: \n",
    "    (i) Advantage of Function is that they help with the repeatative work in the program.\n",
    "        as, for a logic or module which is required at different places in the program, \n",
    "        we can define a function so that we did not have to repeat writting that block of code again and again.\n",
    "    \n",
    "    (ii)Another benefit of function is that it facilitates future improvement and refinement in the program, \n",
    "        as through function it is easy to make improvement in a purticular aspect of the program \n",
    "        only by doing refinement in that purticular function definition alone.\n",
    "    \n",
    "    (iii) it also help make the source code look shorter, cleaner and easy to understand.\n",
    "    \n",
    "    (iv) it also helps with information hiding as well.\n",
    "    \n",
    "    (v) It also help making long programs shorter and helps in debugging.\n",
    "    \n",
    "    (vi) One another major benefit of having functions in any programming language is that, it helps in work distribution\n",
    "        as the module of same program can be distributed to different-different developers \n",
    "        and lateron those modules can be combined to have a single program.\n",
    "    "
   ]
  },
  {
   "cell_type": "code",
   "execution_count": null,
   "id": "9d7836b2",
   "metadata": {},
   "outputs": [],
   "source": [
    "Q2. When does the code in a function run: when it's specified or when it's called?"
   ]
  },
  {
   "cell_type": "code",
   "execution_count": null,
   "id": "eca31438",
   "metadata": {},
   "outputs": [],
   "source": [
    "Answer.2: \n",
    "Any function executes only when its called."
   ]
  },
  {
   "cell_type": "code",
   "execution_count": null,
   "id": "6d40d3ec",
   "metadata": {},
   "outputs": [],
   "source": [
    "Q3. What statement creates a function?"
   ]
  },
  {
   "cell_type": "code",
   "execution_count": null,
   "id": "0c61ffcc",
   "metadata": {},
   "outputs": [],
   "source": [
    "Answer.3: \n",
    "\n",
    "\"def\" statement is used to create a function, followed by a function name and parenthesis containing optional arguments/parameters.\n",
    "            \n",
    "            below is an exambple of syntax:-\n",
    "    \n",
    "def function_name(argument):\n",
    "    \"block of code\"\n",
    "            \n",
    "\n",
    "            "
   ]
  },
  {
   "cell_type": "code",
   "execution_count": null,
   "id": "c54dfde3",
   "metadata": {},
   "outputs": [],
   "source": [
    "Q4. What is the difference between a function and a function call?"
   ]
  },
  {
   "cell_type": "code",
   "execution_count": null,
   "id": "f2fc2da8",
   "metadata": {},
   "outputs": [],
   "source": [
    "Answer.4: \n",
    "First we will understand what is the meaning of calling a function.\n",
    "          \n",
    "Function call: Function call is actually invoking it and passing control to that purticular function, \n",
    "               to make it run and execute the desire operation in the program, \n",
    "               when its called its actually run and start consuming CPU cycles and memory allocation\n",
    "               we call a function by executing its name along with parenthesis containing the requied parameters if applicable\n",
    "    \n",
    "Function: by FUnction we only mean the name of the function and its definition, \n",
    "          definition is that block of code and statements which the function is meant to execute upon calling."
   ]
  },
  {
   "cell_type": "code",
   "execution_count": null,
   "id": "f81a6e34",
   "metadata": {},
   "outputs": [],
   "source": [
    "Q5. How many global scopes are there in a Python program? How many local scopes?"
   ]
  },
  {
   "cell_type": "code",
   "execution_count": null,
   "id": "6f01497b",
   "metadata": {},
   "outputs": [],
   "source": [
    "Answer.5: \n",
    "There is only 1 global scope and 1 local scope in a python program or module or script."
   ]
  },
  {
   "cell_type": "code",
   "execution_count": null,
   "id": "25d7b578",
   "metadata": {},
   "outputs": [],
   "source": [
    "Q6. What happens to variables in a local scope when the function call returns?"
   ]
  },
  {
   "cell_type": "code",
   "execution_count": null,
   "id": "d519679d",
   "metadata": {},
   "outputs": [],
   "source": [
    "Answer.6: \n",
    "All variables in local scope of that function which has call return means which execution is completed, gets destroyed.\n",
    "and it again becomes undefined."
   ]
  },
  {
   "cell_type": "code",
   "execution_count": null,
   "id": "a69a9dd7",
   "metadata": {},
   "outputs": [],
   "source": [
    "Q7. What is the concept of a return value? Is it possible to have a return value in an expression?"
   ]
  },
  {
   "cell_type": "code",
   "execution_count": null,
   "id": "25530164",
   "metadata": {},
   "outputs": [],
   "source": [
    "Answer.7: \n",
    "\"return\" is used to terminate a function or a method and it gives the result of the group of statements inside that function.\n",
    "return value of a function can be any python object.\n",
    "No, in python it is not possible to use return outside a function, return can only be used inside a function."
   ]
  },
  {
   "cell_type": "code",
   "execution_count": 1,
   "id": "5c0b0872",
   "metadata": {},
   "outputs": [],
   "source": [
    "Q8. If a function does not have a return statement, what is the return value of a call to that function?"
   ]
  },
  {
   "cell_type": "code",
   "execution_count": null,
   "id": "092798bc",
   "metadata": {},
   "outputs": [],
   "source": [
    "Answer.8: \n",
    "Return value of that function upon calling will be object None of class Nonetype. \n",
    "    However the function will execute all teh statements defined in that function, still it will return None type object, \n",
    "below is an example"
   ]
  },
  {
   "cell_type": "code",
   "execution_count": 7,
   "id": "d56f0033",
   "metadata": {},
   "outputs": [
    {
     "name": "stdout",
     "output_type": "stream",
     "text": [
      "Python Rocks!\n",
      "Return of function fun1 is: None\n",
      "type of Return object of function fun1 is: <class 'NoneType'>\n"
     ]
    }
   ],
   "source": [
    "def fun1():\n",
    "    print(\"Python Rocks!\")\n",
    "x=fun1()\n",
    "print('Return of function fun1 is:',x)\n",
    "print('type of Return object of function fun1 is:',type(x))"
   ]
  },
  {
   "cell_type": "code",
   "execution_count": null,
   "id": "fcc2b9d7",
   "metadata": {},
   "outputs": [],
   "source": [
    "Q9. How do you make a function variable refer to the global variable?"
   ]
  },
  {
   "cell_type": "code",
   "execution_count": null,
   "id": "7f9d521a",
   "metadata": {},
   "outputs": [],
   "source": [
    "Answer.9: \n",
    "Global variable can be used anywhere in the program, \n",
    "    local variable can easily refer to the global variable as it is available everywhere in the purticular module.\n",
    "    However the value of global variable can not be modified by any function.\n",
    "    \n",
    "    Function needs to call global variable by using a keywork \"global\" if the value of global variable is to be modified\n",
    "Below is a example:         \n"
   ]
  },
  {
   "cell_type": "code",
   "execution_count": 24,
   "id": "2f0fde89",
   "metadata": {},
   "outputs": [
    {
     "name": "stdout",
     "output_type": "stream",
     "text": [
      "sum is: 15\n",
      "\n",
      "\n",
      " THE Value of GLOBAL VARIABLE x is: 10\n"
     ]
    }
   ],
   "source": [
    "x=10\n",
    "def fun2(y):\n",
    "    z=x+y\n",
    "    print(\"sum is:\",z)\n",
    "fun2(5)\n",
    "\n",
    "#here local variable z can easily refer to the global variable x\n",
    "print(\"\\n\\n THE Value of GLOBAL VARIABLE x is:\", x)\n"
   ]
  },
  {
   "cell_type": "code",
   "execution_count": 25,
   "id": "ca0ac649",
   "metadata": {},
   "outputs": [
    {
     "name": "stdout",
     "output_type": "stream",
     "text": [
      "the sum is: 25\n",
      "the value of LOCAL VARIABLE x is: 20\n",
      "\n",
      "\n",
      "BUT THE Value of GLOBAL VARIABLE x remains: 10\n"
     ]
    }
   ],
   "source": [
    "x=10\n",
    "def fun3(y):\n",
    "    x=20\n",
    "    z=x+y\n",
    "    print(\"the sum is:\",z)\n",
    "    print(\"the value of LOCAL VARIABLE x is:\", x)\n",
    "fun3(5)\n",
    "\n",
    "\n",
    "print(\"\\n\\nBUT THE Value of GLOBAL VARIABLE x remains:\", x)"
   ]
  },
  {
   "cell_type": "code",
   "execution_count": 27,
   "id": "a604d7f6",
   "metadata": {},
   "outputs": [
    {
     "name": "stdout",
     "output_type": "stream",
     "text": [
      "the sum is: 25\n",
      "the value of LOCAL VARIABLE x is: 20\n",
      "\n",
      "\n",
      "Here The Function was able to change the value of GLOBAL VARIABLE x to: 20\n"
     ]
    }
   ],
   "source": [
    "x=10\n",
    "def fun3(y):\n",
    "    global x\n",
    "    x=20\n",
    "    z=x+y\n",
    "    print(\"the sum is:\",z)\n",
    "    print(\"the value of LOCAL VARIABLE x is:\", x)\n",
    "fun3(5)\n",
    "\n",
    "\n",
    "print(\"\\n\\nHere The Function was able to change the value of GLOBAL VARIABLE x to:\", x)"
   ]
  },
  {
   "cell_type": "code",
   "execution_count": null,
   "id": "765adcf0",
   "metadata": {},
   "outputs": [],
   "source": [
    "Q10.What is the data type of None?"
   ]
  },
  {
   "cell_type": "code",
   "execution_count": null,
   "id": "382d80ff",
   "metadata": {},
   "outputs": [],
   "source": [
    "Answer.10: \n",
    "None is a object of datatype NoneType, Moreover, everything in Python is a object, None is a object from class "
   ]
  },
  {
   "cell_type": "code",
   "execution_count": null,
   "id": "18166999",
   "metadata": {},
   "outputs": [],
   "source": [
    "Q11. What does the sentence import areallyourpetsnamederic do?"
   ]
  },
  {
   "cell_type": "code",
   "execution_count": null,
   "id": "ac6bfd35",
   "metadata": {},
   "outputs": [],
   "source": [
    "Answer.11: \n",
    "Above statement will import the module named \"areallyourpetsnamederic\" into the current module.\n",
    "\n",
    "all of its object have to be called as areallyourpetsnamederic.object_name\n"
   ]
  },
  {
   "cell_type": "code",
   "execution_count": null,
   "id": "cb405723",
   "metadata": {},
   "outputs": [],
   "source": [
    "Q12. If you had a bacon() feature in a spam module, what would you call it after importing spam?"
   ]
  },
  {
   "cell_type": "code",
   "execution_count": null,
   "id": "a1c921ed",
   "metadata": {},
   "outputs": [],
   "source": [
    "Answer.12: \n",
    "it will be as per the below code"
   ]
  },
  {
   "cell_type": "code",
   "execution_count": null,
   "id": "69eea313",
   "metadata": {},
   "outputs": [],
   "source": [
    "import spam\n",
    "spam.bacon()\n",
    "\n",
    "or \n",
    "\n",
    "from spam import *\n",
    "bacon()\n",
    "\n",
    "bacon will become a imported object to for the current module\n"
   ]
  },
  {
   "cell_type": "code",
   "execution_count": null,
   "id": "c939f5ea",
   "metadata": {},
   "outputs": [],
   "source": [
    "Q13.What can you do to save a programme from crashing if it encounters an error?"
   ]
  },
  {
   "cell_type": "code",
   "execution_count": null,
   "id": "7e6b1be1",
   "metadata": {},
   "outputs": [],
   "source": [
    "Answer.13: \n",
    "Through the use of Exception handling we can prevent the program from crashing if it encounters any error, \n",
    "    as if the exception handling through the use \"try\" and \"except\" statements are done diligently then program will send the control to the \n",
    "    \"except\" block when it encounters an error."
   ]
  },
  {
   "cell_type": "code",
   "execution_count": null,
   "id": "6e5451aa",
   "metadata": {},
   "outputs": [],
   "source": [
    "Q14.What is the purpose of the try clause? What is the purpose of the except clause?"
   ]
  },
  {
   "cell_type": "code",
   "execution_count": null,
   "id": "1355021b",
   "metadata": {},
   "outputs": [],
   "source": [
    "Answer.14: \n",
    "    Try: used for execution of a module or group of statments with exception handling \n",
    "        and it prevents the program from crashing if it encounters an error.\n",
    "        Try behaves literally as its engligh meaning, as all the code preset under the Try block will try to runand will give result\n",
    "        as desired, if they encounter any logical or syntactical or any other error it will pass the flow control to the except block\n",
    "    \n",
    "    Except: it is used in conjuction with Try and used in exception handling, whenever the code under the Try blocvk encounters the error\n",
    "        Except block gets the control and execute the statements mentioned in the except block."
   ]
  },
  {
   "cell_type": "code",
   "execution_count": null,
   "id": "0387a67b",
   "metadata": {},
   "outputs": [],
   "source": []
  },
  {
   "cell_type": "code",
   "execution_count": null,
   "id": "6fe70f12",
   "metadata": {},
   "outputs": [],
   "source": []
  },
  {
   "cell_type": "code",
   "execution_count": null,
   "id": "fa3f359b",
   "metadata": {},
   "outputs": [],
   "source": []
  },
  {
   "cell_type": "code",
   "execution_count": null,
   "id": "8f441ae4",
   "metadata": {},
   "outputs": [],
   "source": []
  },
  {
   "cell_type": "code",
   "execution_count": null,
   "id": "960a9250",
   "metadata": {},
   "outputs": [],
   "source": []
  }
 ],
 "metadata": {
  "kernelspec": {
   "display_name": "Python 3 (ipykernel)",
   "language": "python",
   "name": "python3"
  },
  "language_info": {
   "codemirror_mode": {
    "name": "ipython",
    "version": 3
   },
   "file_extension": ".py",
   "mimetype": "text/x-python",
   "name": "python",
   "nbconvert_exporter": "python",
   "pygments_lexer": "ipython3",
   "version": "3.9.12"
  }
 },
 "nbformat": 4,
 "nbformat_minor": 5
}
