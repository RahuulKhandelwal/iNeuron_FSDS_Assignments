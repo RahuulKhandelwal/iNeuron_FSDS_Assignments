{
 "cells": [
  {
   "cell_type": "code",
   "execution_count": null,
   "id": "a8fc263e",
   "metadata": {},
   "outputs": [],
   "source": [
    "1. In the below elements which of them are values or an expression? eg:- values can be integer or string and expressions will be mathematical operators.\n",
    "* \n",
    "'hello'\n",
    "-87.8\n",
    "- \n",
    "/ \n",
    "+\n",
    "6 \n",
    "\n",
    "2. What is the difference between string and variable?\n",
    "\n",
    "3. Describe three different data types.\n",
    "\n",
    "4. What is an expression made up of? What do all expressions do?\n",
    "5. This assignment statements, like spam = 10. What is the difference between an expression and a statement?\n",
    "6. After running the following code, what does the variable bacon contain?\n",
    "bacon = 22\n",
    "bacon + 1\n",
    "\n",
    "7. What should the values of the following two terms be?\n",
    "'spam' + 'spamspam'\n",
    "'spam' * 3\n",
    "\n",
    "8. Why is eggs a valid variable name while 100 is invalid?\n",
    "9. What three functions can be used to get the integer, floating-point number, or string version of a value?\n",
    "10. Why does this expression cause an error? How can you fix it?\n",
    "'I have eaten ' + 99 + ' burritos.'\n"
   ]
  },
  {
   "cell_type": "code",
   "execution_count": null,
   "id": "ac2c6dec",
   "metadata": {},
   "outputs": [],
   "source": [
    "Q-1. In the below elements which of them are values or an expression? eg:- values can be integer or string and expressions will be mathematical operators.\n",
    "* \n",
    "'hello'\n",
    "-87.8\n",
    "- \n",
    "/ \n",
    "+\n",
    "6\n",
    "\n",
    "Answer:- \n",
    "    Operators:- are the selected special characters which represent a particular computation operation.\n",
    "    Operands:- are the value on which operator operates\n",
    "    Expression:-is a sequence of operators and operands  \n",
    "\n",
    "* - Arithmetic operator (multiplication) Expression \n",
    "'hello'- String Value\n",
    "-87.8 - negative float value\n",
    "- -Arithmetic operator  (Subtraction) \n",
    "/ -Arithmetic operator  (Division)\n",
    "+ - Arithmetic operator (Addition)\n",
    "6 - Integer value"
   ]
  },
  {
   "cell_type": "code",
   "execution_count": null,
   "id": "7ce6294f",
   "metadata": {},
   "outputs": [],
   "source": [
    "Q-2: 2. What is the difference between string and variable?\n",
    "\n",
    "Answer:- Variable is like a container where different-different data types can be stored, basically it is that \n",
    "cell in memory where the actual data is stored and it is referred by that variable name in the program,  \n",
    "through which it indexed in the memory and called by program.\n",
    "Whereas,\n",
    "String is a one of the many data types which can be stored in that variable. \n",
    "\n",
    "other data types are like int/float/list/tuple/dictionary/Set/boolean\n",
    "\n"
   ]
  },
  {
   "cell_type": "code",
   "execution_count": null,
   "id": "287121a2",
   "metadata": {},
   "outputs": [],
   "source": [
    "Q-3. Describe three different data types.\n",
    "\n",
    "Answer: Three most common data types are as follows\n",
    "    1. int:- it takes all non-decimal integer values (both positive and negative)\n",
    "    2. Float:- it takes all decimal types values (both positive and negative)\n",
    "    3. Str:- it takes all alphabetic and alphanumeric values    \n",
    "\n"
   ]
  },
  {
   "cell_type": "code",
   "execution_count": null,
   "id": "52e58c83",
   "metadata": {},
   "outputs": [],
   "source": [
    "Q-4. What is an expression made up of? What do all expressions do?\n",
    "\n",
    "Answer:- Expressions in Python are made up of two components, which are operator & Operand\n",
    "         Operators:- are the selected special characters which represent a particular computation operation.\n",
    "         Operands:- are the value on which operator operates\n",
    "All expression in python do some type of computation on the operands as per the available operator.\n",
    "    "
   ]
  },
  {
   "cell_type": "code",
   "execution_count": null,
   "id": "72743b6e",
   "metadata": {},
   "outputs": [],
   "source": [
    "Q-5. This assignment statements, like spam = 10. What is the difference between an expression and a statement?\n",
    "\n",
    "Answer:- Expression is just a computational sequence of operators and operands which evaluates to a particular value\n",
    "            Whereas,\n",
    "Statement is a command that python interpreter understands and executes a particular operation bases on that statement, \n",
    "e.g, \n",
    "    Variable assignment expression: assign a value to a variable\n",
    "    Other statements like print statement/looping statement"
   ]
  },
  {
   "cell_type": "code",
   "execution_count": null,
   "id": "6d1f9898",
   "metadata": {},
   "outputs": [],
   "source": [
    "Q-6. After running the following code, what does the variable bacon contain?\n",
    "bacon = 22\n",
    "bacon + 1\n",
    "\n",
    "Answer:- variable bacon will still contain value 22, as the +1 operation has been done in run time \n",
    "and we have not done any value re-assignment operation."
   ]
  },
  {
   "cell_type": "code",
   "execution_count": null,
   "id": "c3c788f3",
   "metadata": {},
   "outputs": [],
   "source": [
    "Q-7. What should the values of the following two terms be?\n",
    "    'spam' + 'spamspam'\n",
    "    'spam' * 3\n",
    "\n",
    "Answer:-\n",
    "    'spam' + 'spamspam' = spamspamspam  # here we are doing concatenation operation on spam and spamspam\n",
    "    'spam' * 3 = spamspamspam           #here we are multiplying string value to 3 and thus result"
   ]
  },
  {
   "cell_type": "code",
   "execution_count": null,
   "id": "c2c2057d",
   "metadata": {},
   "outputs": [],
   "source": [
    "Q-8. Why is eggs a valid variable name while 100 is invalid?\n",
    "\n",
    "Answer:- This is because variable name in python cannot be start from a number, \n",
    "Variable name in python can only start from either a letter or a underscore."
   ]
  },
  {
   "cell_type": "code",
   "execution_count": null,
   "id": "93a2e44a",
   "metadata": {},
   "outputs": [],
   "source": [
    "Q-9. What three functions can be used to get the integer, floating-point number, or string version of a value?\n",
    "\n",
    "Answer:- Through typecasting operation we can get the different version of a value, though there is this exception that,\n",
    "We cannot typecast a string value with alphabetic or alphanumeric character to a int type variable.\n",
    "    Statement of this operation is as below:\n",
    "        a=10             # is declared as a int type variable\n",
    "        str(a)           # it will typecast it to a string type variable result: a='10'\n",
    "        float(a)         # will typecast it to a float type variable result: a= 10.0 \n",
    "    whereas if:\n",
    "        b=rahuul85       # this can not be typecast to either int type of float type variable"
   ]
  },
  {
   "cell_type": "code",
   "execution_count": null,
   "id": "7e05d0f4",
   "metadata": {},
   "outputs": [],
   "source": [
    "Q-10. Why does this expression cause an error? How can you fix it?\n",
    "    'I have eaten ' + 99 + ' burritos.'\n",
    "\n",
    "Answer: error is due to the limitation that int value cannot be concatenate to the string value, to remove the error we have to convert 99 to its string value'99'.\n",
    "and thus the modified expression will become\n",
    "    'I have eaten ' + '99' + ' burritos.'\n",
    "\n"
   ]
  }
 ],
 "metadata": {
  "kernelspec": {
   "display_name": "Python 3 (ipykernel)",
   "language": "python",
   "name": "python3"
  },
  "language_info": {
   "codemirror_mode": {
    "name": "ipython",
    "version": 3
   },
   "file_extension": ".py",
   "mimetype": "text/x-python",
   "name": "python",
   "nbconvert_exporter": "python",
   "pygments_lexer": "ipython3",
   "version": "3.9.7"
  }
 },
 "nbformat": 4,
 "nbformat_minor": 5
}
