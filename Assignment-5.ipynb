{
 "cells": [
  {
   "cell_type": "markdown",
   "id": "d170b5b5",
   "metadata": {},
   "source": [
    "1. What does an empty dictionary's code look like?\n",
    "2. What is the value of a dictionary value with the key 'foo' and the value 42?\n",
    "3. What is the most significant distinction between a dictionary and a list?\n",
    "4. What happens if you try to access spam['foo'] if spam is {'bar': 100}?\n",
    "5. If a dictionary is stored in spam, what is the difference between the expressions 'cat' in spam and 'cat' in spam.keys()?\n",
    "6. If a dictionary is stored in spam, what is the difference between the expressions 'cat' in spam and 'cat' in spam.values()?\n",
    "7. What is a shortcut for the following code?\n",
    "if 'color' not in spam:\n",
    "spam['color'] = 'black'\n",
    "\n",
    "8. How do you \"pretty print\" dictionary values using which module and function?\n"
   ]
  },
  {
   "cell_type": "code",
   "execution_count": null,
   "id": "e8c25edc",
   "metadata": {},
   "outputs": [],
   "source": [
    "Answer-1.\n",
    "Empty dictionary look like {}\n",
    "syntax:\n",
    "    dic1={}"
   ]
  },
  {
   "cell_type": "code",
   "execution_count": 8,
   "id": "161cb39b",
   "metadata": {},
   "outputs": [],
   "source": [
    "Answer-2. Value will be 42"
   ]
  },
  {
   "cell_type": "code",
   "execution_count": 9,
   "id": "447c8dfb",
   "metadata": {},
   "outputs": [
    {
     "name": "stdout",
     "output_type": "stream",
     "text": [
      "<class 'dict'>\n"
     ]
    }
   ],
   "source": [
    "Answer-3. List take data is a value format whereas dictionary take data in key & value pair type.\n",
    "example dic1={\"key1\": value} || dic2={'apple':30}"
   ]
  },
  {
   "cell_type": "code",
   "execution_count": 10,
   "id": "02b88065",
   "metadata": {},
   "outputs": [],
   "source": [
    "Answer-4. Python will return key error.\n",
    "example: keyerror: 'foo'"
   ]
  },
  {
   "cell_type": "code",
   "execution_count": 21,
   "id": "dc17bf35",
   "metadata": {},
   "outputs": [],
   "source": [
    "Answer-5. No difference"
   ]
  },
  {
   "cell_type": "code",
   "execution_count": null,
   "id": "ba5da279",
   "metadata": {},
   "outputs": [],
   "source": [
    "Answer-6. Expression 'cat' in spam will look for 'cat' within the keys of the dictionary spam\n",
    "whereas expression 'cat' in spam.values() will look for 'cat' within values of dictionary spam"
   ]
  },
  {
   "cell_type": "code",
   "execution_count": null,
   "id": "d60a427c",
   "metadata": {},
   "outputs": [],
   "source": [
    "7. What is a shortcut for the following code?\n",
    "if 'color' not in spam:\n",
    "spam['color'] = 'black'"
   ]
  },
  {
   "cell_type": "code",
   "execution_count": 141,
   "id": "4536ae11",
   "metadata": {},
   "outputs": [
    {
     "name": "stdout",
     "output_type": "stream",
     "text": [
      "{}\n"
     ]
    }
   ],
   "source": [
    "#Answer-7. setdefault() method is used for setting a value for a dictionary value only if that key doesnot have a value already\n",
    "spam={}\n",
    "print(spam)\n"
   ]
  },
  {
   "cell_type": "code",
   "execution_count": 142,
   "id": "9043ad7e",
   "metadata": {},
   "outputs": [
    {
     "name": "stdout",
     "output_type": "stream",
     "text": [
      "{'color': 'black'}\n"
     ]
    }
   ],
   "source": [
    "spam.setdefault('color','black')\n",
    "print(spam)"
   ]
  },
  {
   "cell_type": "code",
   "execution_count": null,
   "id": "d5ffef82",
   "metadata": {},
   "outputs": [],
   "source": [
    "#Answer-8. By importing pprint module we can use pprint statement, to print dictionary values in much mode human readable form\n",
    "import pprint\n",
    "\n",
    "pprint.pprint(spam)"
   ]
  },
  {
   "cell_type": "code",
   "execution_count": 211,
   "id": "7538d573",
   "metadata": {},
   "outputs": [],
   "source": [
    "dic2={'Serial_No': '123', 'Gender': 'M', 'Class_Attended': 'English', 'Class_section': '7-D' }"
   ]
  },
  {
   "cell_type": "code",
   "execution_count": 212,
   "id": "da4455f0",
   "metadata": {},
   "outputs": [
    {
     "name": "stdout",
     "output_type": "stream",
     "text": [
      "{'Serial_No': '123', 'Gender': 'M', 'Class_Attended': 'English', 'Class_section': '7-D'}\n"
     ]
    }
   ],
   "source": [
    "print(dic2)"
   ]
  },
  {
   "cell_type": "code",
   "execution_count": 213,
   "id": "9a8086a1",
   "metadata": {},
   "outputs": [
    {
     "name": "stdout",
     "output_type": "stream",
     "text": [
      "{'Class_Attended': 'English',\n",
      " 'Class_section': '7-D',\n",
      " 'Gender': 'M',\n",
      " 'Serial_No': '123'}\n"
     ]
    }
   ],
   "source": [
    "pprint.pprint(dic2)"
   ]
  }
 ],
 "metadata": {
  "kernelspec": {
   "display_name": "Python 3 (ipykernel)",
   "language": "python",
   "name": "python3"
  },
  "language_info": {
   "codemirror_mode": {
    "name": "ipython",
    "version": 3
   },
   "file_extension": ".py",
   "mimetype": "text/x-python",
   "name": "python",
   "nbconvert_exporter": "python",
   "pygments_lexer": "ipython3",
   "version": "3.9.12"
  }
 },
 "nbformat": 4,
 "nbformat_minor": 5
}
