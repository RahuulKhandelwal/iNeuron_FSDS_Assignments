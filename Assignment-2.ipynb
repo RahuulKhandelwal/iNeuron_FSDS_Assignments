{
 "cells": [
  {
   "cell_type": "markdown",
   "id": "710e2279",
   "metadata": {},
   "source": [
    "# Q1.\n",
    "What are the two values of the Boolean data type? How do you write them?"
   ]
  },
  {
   "cell_type": "raw",
   "id": "251e329a",
   "metadata": {},
   "source": [
    "# Answer.1: \n",
    "Two boolean data types are True & False, \n",
    "These are built-in data types of python and are used to determine whethere a statement is true or false"
   ]
  },
  {
   "cell_type": "markdown",
   "id": "840f8928",
   "metadata": {},
   "source": [
    "# Q2.\n",
    "What are the three different types of Boolean operators?"
   ]
  },
  {
   "cell_type": "raw",
   "id": "749cf8ab",
   "metadata": {},
   "source": [
    "# Answer-2: \n",
    "1st Boolean operator is: \"and\" - it takes 2 arguments and return true only if both the arguments are true, if any of the argumenets are false it will return false\n",
    "2nd Boolean operator is: \"or\" - it also takes two arguments but opposite to the and operator it will give True even if any one of the arguments are true\n",
    "3rd Boolean operator is: \"not\" - it takes only 1 argument and return opposite to the logic ofarguments, i.e, it gives False for  True arguments and True for False Arguments."
   ]
  },
  {
   "cell_type": "markdown",
   "id": "d2dc162c",
   "metadata": {},
   "source": [
    "# Q3.\n",
    "Make a list of each Boolean operator&#39;s truth tables (i.e. every possible combination of Boolean\n",
    "values for the operator and what it evaluate )."
   ]
  },
  {
   "cell_type": "raw",
   "id": "c174cf4f",
   "metadata": {},
   "source": [
    "# Answer-3\n",
    "\"AND\" Table \n",
    "True and True = True\n",
    "True and False = False\n",
    "False and True = False\n",
    "False and False = False\n",
    "\n",
    "\"Or\" Table\n",
    "True or True = True\n",
    "True or False=True\n",
    "False or True=True\n",
    "False or False=False\n",
    "\n",
    "\"Not\" Table\n",
    "not True=False\n",
    "not Flase=True\n"
   ]
  },
  {
   "cell_type": "markdown",
   "id": "cff9ea85",
   "metadata": {},
   "source": [
    "# Q4.\n",
    "What are the values of the following expressions?\n"
   ]
  },
  {
   "cell_type": "raw",
   "id": "3a895c53",
   "metadata": {},
   "source": [
    "(5>4) and (3==5)\n",
    "Result: False"
   ]
  },
  {
   "cell_type": "raw",
   "id": "6c1a9607",
   "metadata": {},
   "source": [
    "not (5 > 4)\n",
    "Result: False"
   ]
  },
  {
   "cell_type": "raw",
   "id": "34eb8d40",
   "metadata": {},
   "source": [
    "(5 > 4) or (3 == 5)\n",
    "Result: True"
   ]
  },
  {
   "cell_type": "raw",
   "id": "fe479aca",
   "metadata": {},
   "source": [
    "not ((5 > 4) or (3 == 5))\n",
    "Result: False"
   ]
  },
  {
   "cell_type": "raw",
   "id": "4d26bf75",
   "metadata": {},
   "source": [
    "(True and True) and (True == False)\n",
    "Result: False"
   ]
  },
  {
   "cell_type": "raw",
   "id": "36250ee7",
   "metadata": {},
   "source": [
    "(not False) or (not True)\n",
    "Result: True"
   ]
  },
  {
   "cell_type": "markdown",
   "id": "c68a241e",
   "metadata": {},
   "source": [
    "# Q5- \n",
    "What are the six comparison operators?"
   ]
  },
  {
   "cell_type": "raw",
   "id": "b5fd28f6",
   "metadata": {},
   "source": [
    "Answer-5\n",
    "< greater than \n",
    "> less than\n",
    "== equal to\n",
    "!= not equal to\n",
    ">= less than or equal to\n",
    "<= great than or equal to"
   ]
  },
  {
   "cell_type": "markdown",
   "id": "772b99fd",
   "metadata": {},
   "source": [
    "# Q6-\n",
    "How do you tell the difference between the equal to and assignment operators?Describe a condition and when you would use one."
   ]
  },
  {
   "cell_type": "raw",
   "id": "1c91f28d",
   "metadata": {},
   "source": [
    "Equal to Assignment operator is denoted as ==\n",
    "assignment operator is =\n",
    "\n",
    "Assignment operator use case:-\n",
    "x=5\n",
    "Print(x)\n",
    "result:5\n",
    "    \n",
    "equal to operator use case:-\n",
    "x==5 \n",
    "    will return True if value of x is 5 otherwise will return False\n",
    "\n",
    "another use case for equal to operator:-\n",
    "x==y\n",
    "will check whether x is equal to y and will True if value of x and y are equal otherwise will return False"
   ]
  },
  {
   "cell_type": "markdown",
   "id": "43c0d182",
   "metadata": {},
   "source": [
    "# Q7. \n",
    "Identify the three blocks in this code:"
   ]
  },
  {
   "cell_type": "raw",
   "id": "d8d4fb28",
   "metadata": {},
   "source": [
    "spam = 0\n",
    "\n",
    "1st Block:-\n",
    "if spam ==10:\n",
    "    print('eggs')\n",
    "\n",
    "2nd Block:-    \n",
    "if spam > 5:\n",
    "    print('bacon')\n",
    "\n",
    "3rd Block:-    \n",
    "else:\n",
    "    print('ham')\n",
    "    print('spam')\n",
    "    print('spam')\n"
   ]
  },
  {
   "cell_type": "markdown",
   "id": "473dcf7e",
   "metadata": {},
   "source": [
    "# Q8. \n",
    "Write code that prints \n",
    "Hello if 1 is stored in spam, prints Howdy if 2 is stored in spam, and prints Greetings! if anything else is stored in spam."
   ]
  },
  {
   "cell_type": "code",
   "execution_count": 15,
   "id": "26b891fc",
   "metadata": {},
   "outputs": [
    {
     "name": "stdout",
     "output_type": "stream",
     "text": [
      "please enter a value for spam:1\n",
      "Hello\n"
     ]
    }
   ],
   "source": [
    "try:\n",
    "    spam=int(input(\"please enter a value for spam:\"))\n",
    "    if spam==1:\n",
    "        print('Hello')\n",
    "        \n",
    "    elif spam==2:\n",
    "        print('Howdy')\n",
    "    else:\n",
    "        print('Greetings!')\n",
    "except:\n",
    "    print(\"Greetings!\", \"\\n Value of spam should have been a no.\")\n",
    "\n"
   ]
  },
  {
   "cell_type": "markdown",
   "id": "fb5d6d11",
   "metadata": {},
   "source": [
    "# Q9.\n",
    "If your programme is stuck in an endless loop, what keys you’ll press?"
   ]
  },
  {
   "cell_type": "code",
   "execution_count": null,
   "id": "f0c03261",
   "metadata": {},
   "outputs": [],
   "source": [
    "while True:\n",
    "    print('Endless')"
   ]
  },
  {
   "cell_type": "code",
   "execution_count": null,
   "id": "eea9c451",
   "metadata": {},
   "outputs": [],
   "source": [
    "we can press ctr+c in anaconda prompt to stop the execution, or else we can Stop the kernel"
   ]
  },
  {
   "cell_type": "markdown",
   "id": "d4760df6",
   "metadata": {},
   "source": [
    "# Q10. \n",
    "How can you tell the difference between break and continue?"
   ]
  },
  {
   "cell_type": "code",
   "execution_count": null,
   "id": "13d3d144",
   "metadata": {},
   "outputs": [],
   "source": [
    "Break and Continue these both are loop control statement.\n",
    "\n",
    "Break: \n",
    "    usually is deployed along with a external trigger conditional statement and it break the loop and pass the control over to the next loop or outer loop, when that condition is met\n",
    "    it eliminates teh execution of remaining iterations of the loop when that external trigger condition is met\n",
    "    it is used for the early termination of loop\n",
    "\n",
    "Continue:\n",
    "    it i also deployed along with a external trigger conditional statement,but opposite to the break it only skips the current iteration \n",
    "    and pass control back to the next iteration of that loop which contains continue\n",
    "    it is used when we dont want to terminate the Loop and just want to skip a certain iteration\n",
    "    it is used for early execution of next iteration \n",
    "    \n"
   ]
  },
  {
   "cell_type": "code",
   "execution_count": 23,
   "id": "97270619",
   "metadata": {},
   "outputs": [
    {
     "name": "stdout",
     "output_type": "stream",
     "text": [
      "I\n",
      "Love\n",
      "Learning\n",
      "Python\n"
     ]
    }
   ],
   "source": [
    "# Example Break:\n",
    "l=[\"I\", \"Love\", \"Learning\", \"Python\", \"Sometimes\"]\n",
    "for i in l:\n",
    "    if i=='Sometimes':\n",
    "        break\n",
    "    print(i)\n"
   ]
  },
  {
   "cell_type": "code",
   "execution_count": 22,
   "id": "49130216",
   "metadata": {},
   "outputs": [
    {
     "name": "stdout",
     "output_type": "stream",
     "text": [
      "Rahuul\n",
      "Love\n",
      "Learning\n",
      "Python\n"
     ]
    }
   ],
   "source": [
    "# Example Continue:\n",
    "l=[\"Rahuul\", \"NOT\",\"Love\", \"Learning\", \"Python\"]\n",
    "for i in l:\n",
    "    if i==\"NOT\":\n",
    "        continue\n",
    "    print (i)"
   ]
  },
  {
   "cell_type": "markdown",
   "id": "41622747",
   "metadata": {},
   "source": [
    "# Q11. \n",
    "In a for loop, what is the difference between range(10), range(0, 10), and range(0, 10, 1)?"
   ]
  },
  {
   "cell_type": "raw",
   "id": "87f582ea",
   "metadata": {},
   "source": [
    "Answer:\n",
    "    No difference between all three expressions\n",
    "    as all three will give no's ranging from 0-9"
   ]
  },
  {
   "cell_type": "markdown",
   "id": "54561442",
   "metadata": {},
   "source": [
    "# Q12. \n",
    "Write a short program that prints the numbers 1 to 10 using a for loop. Then write an equivalent\n",
    "program that prints the numbers 1 to 10 using a while loop."
   ]
  },
  {
   "cell_type": "code",
   "execution_count": 34,
   "id": "2d1cf022",
   "metadata": {},
   "outputs": [
    {
     "name": "stdout",
     "output_type": "stream",
     "text": [
      "1\n",
      "2\n",
      "3\n",
      "4\n",
      "5\n",
      "6\n",
      "7\n",
      "8\n",
      "9\n",
      "10\n"
     ]
    }
   ],
   "source": [
    "for number in range(1,11):\n",
    "    print(number)"
   ]
  },
  {
   "cell_type": "code",
   "execution_count": 36,
   "id": "78c10e9c",
   "metadata": {},
   "outputs": [
    {
     "name": "stdout",
     "output_type": "stream",
     "text": [
      "1\n",
      "2\n",
      "3\n",
      "4\n",
      "5\n",
      "6\n",
      "7\n",
      "8\n",
      "9\n",
      "10\n"
     ]
    }
   ],
   "source": [
    "number=1\n",
    "while number <11:\n",
    "    print(number)\n",
    "    number=number+1"
   ]
  },
  {
   "cell_type": "markdown",
   "id": "d17aaed2",
   "metadata": {},
   "source": [
    "# Q13. \n",
    "If you had a function named bacon() inside a module named spam, how would you call it after\n",
    "importing spam?"
   ]
  },
  {
   "cell_type": "raw",
   "id": "4fed889b",
   "metadata": {},
   "source": [
    "Answer.13:-\n",
    "\n",
    "from spam import bacon\n",
    "bacon()\n",
    "\n",
    "or else we can\n",
    "\n",
    "import spam\n",
    "spam.bacon()\n",
    "\n",
    "or else we can\n",
    "\n",
    "from spam import *\n",
    "bacon()"
   ]
  }
 ],
 "metadata": {
  "kernelspec": {
   "display_name": "Python 3 (ipykernel)",
   "language": "python",
   "name": "python3"
  },
  "language_info": {
   "codemirror_mode": {
    "name": "ipython",
    "version": 3
   },
   "file_extension": ".py",
   "mimetype": "text/x-python",
   "name": "python",
   "nbconvert_exporter": "python",
   "pygments_lexer": "ipython3",
   "version": "3.9.12"
  }
 },
 "nbformat": 4,
 "nbformat_minor": 5
}
