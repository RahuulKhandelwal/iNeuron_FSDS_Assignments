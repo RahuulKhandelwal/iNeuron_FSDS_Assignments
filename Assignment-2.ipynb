{
 "cells": [
  {
   "cell_type": "code",
   "execution_count": null,
   "id": "1915c81f",
   "metadata": {},
   "outputs": [],
   "source": [
    "# Q1.\n",
    "What are the two values of the Boolean data type? How do you write them?"
   ]
  },
  {
   "cell_type": "code",
   "execution_count": null,
   "id": "8f2e96e5",
   "metadata": {},
   "outputs": [],
   "source": [
    "# Answer.1: \n",
    "Two boolean data types are True & False, \n",
    "\n",
    "These are built-in data types of python and are used to determine whethere a statement is true or false"
   ]
  },
  {
   "cell_type": "code",
   "execution_count": null,
   "id": "1fc90447",
   "metadata": {},
   "outputs": [],
   "source": [
    "# Q2.\n",
    "What are the three different types of Boolean operators?"
   ]
  },
  {
   "cell_type": "code",
   "execution_count": null,
   "id": "48ceb0cb",
   "metadata": {},
   "outputs": [],
   "source": [
    "# Answer-2: \n",
    "1st Boolean operator is: \"and\" - it takes 2 arguments and return true only if both the arguments are true, if any of the argumenets are false it will return false\n",
    "\n",
    "2nd Boolean operator is: \"or\" - it also takes two arguments but opposite to the and operator it will give True even if any one of the arguments are true\n",
    "\n",
    "3rd Boolean operator is: \"not\" - it takes only 1 argument and return opposite to the logic ofarguments, i.e, it gives False for  True arguments and True for False Arguments."
   ]
  },
  {
   "cell_type": "code",
   "execution_count": null,
   "id": "5a022d3f",
   "metadata": {},
   "outputs": [],
   "source": [
    "# Q3.\n",
    "Make a list of each Boolean operator&#39;s truth tables (i.e. every possible combination of Boolean\n",
    "values for the operator and what it evaluate )."
   ]
  },
  {
   "cell_type": "code",
   "execution_count": null,
   "id": "61af554a",
   "metadata": {},
   "outputs": [],
   "source": [
    "# Answer-3\n"
   ]
  },
  {
   "cell_type": "code",
   "execution_count": null,
   "id": "7c84312c",
   "metadata": {},
   "outputs": [],
   "source": [
    "# \"AND\"Table\n",
    "\n",
    "True and True = True\n",
    "\n",
    "True and False = False\n",
    "\n",
    "False and True = False\n",
    "\n",
    "False and False = False\n"
   ]
  },
  {
   "cell_type": "code",
   "execution_count": null,
   "id": "d38bce46",
   "metadata": {},
   "outputs": [],
   "source": [
    "# \"Or\" Table\n",
    "\n",
    "True or True = True\n",
    "\n",
    "True or False=True\n",
    "\n",
    "False or True=True\n",
    "\n",
    "False or False=False\n"
   ]
  },
  {
   "cell_type": "code",
   "execution_count": null,
   "id": "acb293bb",
   "metadata": {},
   "outputs": [],
   "source": [
    "# \"Not\" Table\n",
    "\n",
    "not True=False\n",
    "\n",
    "not Flase=True\n"
   ]
  },
  {
   "cell_type": "code",
   "execution_count": null,
   "id": "016daeba",
   "metadata": {},
   "outputs": [],
   "source": [
    "# Q4.\n",
    "What are the values of the following expressions?\n"
   ]
  },
  {
   "cell_type": "code",
   "execution_count": null,
   "id": "a0658ec5",
   "metadata": {},
   "outputs": [],
   "source": [
    "(5>4) and (3==5)\n",
    "#Result: False"
   ]
  },
  {
   "cell_type": "code",
   "execution_count": null,
   "id": "71343ec5",
   "metadata": {},
   "outputs": [],
   "source": [
    "not (5 > 4)\n",
    "Result: False"
   ]
  },
  {
   "cell_type": "code",
   "execution_count": null,
   "id": "9b7bb636",
   "metadata": {},
   "outputs": [],
   "source": [
    "(5 > 4) or (3 == 5)\n",
    "Result: True"
   ]
  },
  {
   "cell_type": "code",
   "execution_count": null,
   "id": "12c42a3f",
   "metadata": {},
   "outputs": [],
   "source": [
    "not ((5 > 4) or (3 == 5))\n",
    "Result: False"
   ]
  },
  {
   "cell_type": "code",
   "execution_count": null,
   "id": "1fca1e82",
   "metadata": {},
   "outputs": [],
   "source": [
    "(True and True) and (True == False)\n",
    "Result: False"
   ]
  },
  {
   "cell_type": "code",
   "execution_count": null,
   "id": "49bc4a7d",
   "metadata": {},
   "outputs": [],
   "source": [
    "(not False) or (not True)\n",
    "Result: True"
   ]
  },
  {
   "cell_type": "code",
   "execution_count": null,
   "id": "9d707338",
   "metadata": {},
   "outputs": [],
   "source": [
    "# Q5- \n",
    "What are the six comparison operators?"
   ]
  },
  {
   "cell_type": "code",
   "execution_count": null,
   "id": "7115e7ea",
   "metadata": {},
   "outputs": [],
   "source": [
    "# Answer-5\n",
    "\n",
    "#  < greater than \n",
    "# > less than\n",
    "# == equal to\n",
    "#  != not equal to\n",
    "#   >= less than or equal to\n",
    "#   <= great than or equal to"
   ]
  },
  {
   "cell_type": "code",
   "execution_count": null,
   "id": "0b971670",
   "metadata": {},
   "outputs": [],
   "source": [
    "# Q6-\n",
    "How do you tell the difference between the equal to and assignment operators?Describe a condition and when you would use one."
   ]
  },
  {
   "cell_type": "code",
   "execution_count": null,
   "id": "e3db5211",
   "metadata": {},
   "outputs": [],
   "source": [
    "Equal to Assignment operator is denoted as \" == \"\n",
    "\n",
    "    Assignment operator use case:-\n",
    "\n",
    "        x=5\n",
    "\n",
    "        Print(x)\n",
    "\n",
    "        result:5\n",
    "\n",
    "assignment operator is denoted as \" = \"\n",
    "    \n",
    "    equal to operator use case:-\n",
    "\n",
    "        x==5 \n",
    "\n",
    "        will return True if value of x is 5 otherwise will return False\n",
    "\n",
    "\n",
    "    another use case for equal to operator:-\n",
    "\n",
    "        x==y\n",
    "\n",
    "        will check whether x is equal to y and will True if value of x and y are equal otherwise will return False"
   ]
  },
  {
   "cell_type": "code",
   "execution_count": null,
   "id": "76b619aa",
   "metadata": {},
   "outputs": [],
   "source": [
    "# Q7. \n",
    "Identify the three blocks in this code:"
   ]
  },
  {
   "cell_type": "code",
   "execution_count": null,
   "id": "7af1a865",
   "metadata": {},
   "outputs": [],
   "source": [
    "spam = 0\n",
    "\n",
    "1st Block:-\n",
    "\n",
    "if spam ==10:\n",
    "    print('eggs')\n",
    "\n",
    "\n",
    "\n",
    "2nd Block:-    \n",
    "\n",
    "if spam > 5:\n",
    "    print('bacon')\n",
    "\n",
    "\n",
    "\n",
    "\n",
    "3rd Block:-    \n",
    "\n",
    "else:\n",
    "    print('ham')\n",
    "    print('spam')\n",
    "    print('spam')\n"
   ]
  },
  {
   "cell_type": "code",
   "execution_count": null,
   "id": "a2c2f659",
   "metadata": {},
   "outputs": [],
   "source": [
    "# Q8. \n",
    "Write code that prints \n",
    "Hello if 1 is stored in spam, prints Howdy if 2 is stored in spam, and prints Greetings! if anything else is stored in spam."
   ]
  },
  {
   "cell_type": "code",
   "execution_count": null,
   "id": "7b70d705",
   "metadata": {},
   "outputs": [],
   "source": [
    "try:\n",
    "    spam=int(input(\"please enter a value for spam:\"))\n",
    "    if spam==1:\n",
    "        print('Hello')\n",
    "        \n",
    "    elif spam==2:\n",
    "        print('Howdy')\n",
    "    else:\n",
    "        print('Greetings!')\n",
    "except:\n",
    "    print(\"Greetings!\", \"\\n Value of spam should have been a no.\")\n",
    "\n"
   ]
  },
  {
   "cell_type": "code",
   "execution_count": null,
   "id": "de024d54",
   "metadata": {},
   "outputs": [],
   "source": [
    "# Q9.\n",
    "If your programme is stuck in an endless loop, what keys you’ll press?"
   ]
  },
  {
   "cell_type": "code",
   "execution_count": null,
   "id": "089bd6d3",
   "metadata": {},
   "outputs": [],
   "source": [
    "while True:\n",
    "    print('Endless')"
   ]
  },
  {
   "cell_type": "code",
   "execution_count": null,
   "id": "5efe96d8",
   "metadata": {},
   "outputs": [],
   "source": [
    "we can press ctr+c in anaconda prompt to stop the execution, or else we can Stop the kernel"
   ]
  },
  {
   "cell_type": "code",
   "execution_count": null,
   "id": "cfffd4a2",
   "metadata": {},
   "outputs": [],
   "source": [
    "# Q10. \n",
    "How can you tell the difference between break and continue?"
   ]
  },
  {
   "cell_type": "code",
   "execution_count": null,
   "id": "e99bc25b",
   "metadata": {},
   "outputs": [],
   "source": [
    "Break and Continue these both are loop control statement.\n",
    "\n",
    "Break: \n",
    "    usually is deployed along with a external trigger conditional statement and it break the loop and pass the control over to the next loop or outer loop, when that condition is met\n",
    "    it eliminates teh execution of remaining iterations of the loop when that external trigger condition is met\n",
    "    it is used for the early termination of loop\n",
    "\n",
    "Continue:\n",
    "    it i also deployed along with a external trigger conditional statement,but opposite to the break it only skips the current iteration \n",
    "    and pass control back to the next iteration of that loop which contains continue\n",
    "    it is used when we dont want to terminate the Loop and just want to skip a certain iteration\n",
    "    it is used for early execution of next iteration \n",
    "    \n"
   ]
  },
  {
   "cell_type": "code",
   "execution_count": null,
   "id": "a2eaffac",
   "metadata": {},
   "outputs": [],
   "source": [
    "# Example Break:\n",
    "l=[\"I\", \"Love\", \"Learning\", \"Python\", \"Sometimes\"]\n",
    "for i in l:\n",
    "    if i=='Sometimes':\n",
    "        break\n",
    "    print(i)\n"
   ]
  },
  {
   "cell_type": "code",
   "execution_count": null,
   "id": "c726b152",
   "metadata": {},
   "outputs": [],
   "source": [
    "# Example Continue:\n",
    "l=[\"Rahuul\", \"NOT\",\"Love\", \"Learning\", \"Python\"]\n",
    "for i in l:\n",
    "    if i==\"NOT\":\n",
    "        continue\n",
    "    print (i)"
   ]
  },
  {
   "cell_type": "code",
   "execution_count": null,
   "id": "cd40397c",
   "metadata": {},
   "outputs": [],
   "source": [
    "# Q11. \n",
    "In a for loop, what is the difference between range(10), range(0, 10), and range(0, 10, 1)?"
   ]
  },
  {
   "cell_type": "code",
   "execution_count": null,
   "id": "22668167",
   "metadata": {},
   "outputs": [],
   "source": [
    "Answer:\n",
    "    #No difference between all three expressions   \n",
    "        \n",
    "    #as all three will give no's ranging from 0-9"
   ]
  },
  {
   "cell_type": "code",
   "execution_count": null,
   "id": "83d6724f",
   "metadata": {},
   "outputs": [],
   "source": [
    "# Q12. \n",
    "Write a short program that prints the numbers 1 to 10 using a for loop. Then write an equivalent\n",
    "program that prints the numbers 1 to 10 using a while loop."
   ]
  },
  {
   "cell_type": "code",
   "execution_count": null,
   "id": "6764c772",
   "metadata": {},
   "outputs": [],
   "source": [
    "for number in range(1,11):\n",
    "    print(number)"
   ]
  },
  {
   "cell_type": "code",
   "execution_count": null,
   "id": "40cd2a31",
   "metadata": {},
   "outputs": [],
   "source": [
    "number=1\n",
    "while number <11:\n",
    "    print(number)\n",
    "    number=number+1"
   ]
  },
  {
   "cell_type": "code",
   "execution_count": null,
   "id": "91abfc09",
   "metadata": {},
   "outputs": [],
   "source": [
    "# Q13. \n",
    "If you had a function named bacon() inside a module named spam, how would you call it after\n",
    "importing spam?"
   ]
  },
  {
   "cell_type": "code",
   "execution_count": null,
   "id": "3c2acbc4",
   "metadata": {},
   "outputs": [],
   "source": [
    "Answer.13:-\n",
    "\n",
    "from spam import bacon\n",
    "bacon()\n",
    "\n",
    "or else we can\n",
    "\n",
    "import spam\n",
    "spam.bacon()\n",
    "\n",
    "or else we can\n",
    "\n",
    "from spam import *\n",
    "bacon()"
   ]
  },
  {
   "cell_type": "code",
   "execution_count": null,
   "id": "81224748",
   "metadata": {},
   "outputs": [],
   "source": []
  },
  {
   "cell_type": "code",
   "execution_count": null,
   "id": "9de788cb",
   "metadata": {},
   "outputs": [],
   "source": []
  }
 ],
 "metadata": {
  "kernelspec": {
   "display_name": "Python 3 (ipykernel)",
   "language": "python",
   "name": "python3"
  },
  "language_info": {
   "codemirror_mode": {
    "name": "ipython",
    "version": 3
   },
   "file_extension": ".py",
   "mimetype": "text/x-python",
   "name": "python",
   "nbconvert_exporter": "python",
   "pygments_lexer": "ipython3",
   "version": "3.9.12"
  }
 },
 "nbformat": 4,
 "nbformat_minor": 5
}
