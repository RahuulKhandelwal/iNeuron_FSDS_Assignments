{
 "cells": [
  {
   "cell_type": "code",
   "execution_count": 4,
   "id": "6c6afbcc",
   "metadata": {},
   "outputs": [],
   "source": [
    "Q-1. What exactly is []?"
   ]
  },
  {
   "cell_type": "code",
   "execution_count": null,
   "id": "59c0a5b9",
   "metadata": {},
   "outputs": [],
   "source": [
    "Answer.1:\n",
    "    Empty list."
   ]
  },
  {
   "cell_type": "code",
   "execution_count": null,
   "id": "42472557",
   "metadata": {},
   "outputs": [],
   "source": [
    "Q-2. In a list of values stored in a variable called spam, how would you assign the value 'hello' as the\n",
    "third value? (Assume [2, 4, 6, 8, 10] are in spam.)"
   ]
  },
  {
   "cell_type": "code",
   "execution_count": 12,
   "id": "2356c14b",
   "metadata": {},
   "outputs": [],
   "source": [
    "Answer-2.\n",
    "\n",
    "spam[2]='hello'\n",
    "\n",
    "this way we will do the reassignment operation on a list value."
   ]
  },
  {
   "cell_type": "code",
   "execution_count": null,
   "id": "050640cd",
   "metadata": {},
   "outputs": [],
   "source": [
    "Let's pretend the spam includes the list ['a','b','c','d'] for the next three queries.\n",
    "Q-3. What is the value of spam[int(int('3'*2)/11)]"
   ]
  },
  {
   "cell_type": "code",
   "execution_count": null,
   "id": "3264b94c",
   "metadata": {},
   "outputs": [],
   "source": [
    "Answer-3.\n",
    "\n",
    "spam[int(int('3'*2)/11)] will return  'd'"
   ]
  },
  {
   "cell_type": "code",
   "execution_count": null,
   "id": "2d271bc7",
   "metadata": {},
   "outputs": [],
   "source": [
    "Explanation:\n",
    "    '3'*2='33'\n",
    "    int('3'*2)=33\n",
    "    int('3'*2)/11=3\n",
    "    int(int('3'*2)/11)=3\n",
    "    spam[int(int('3'*2)/11)]=spam[3]\n",
    "    spam[3]=means the index no 3 of list spam i.e,  'd' in this case\n",
    "    \n",
    "    \n",
    "   "
   ]
  },
  {
   "cell_type": "code",
   "execution_count": null,
   "id": "7782b2d2",
   "metadata": {},
   "outputs": [],
   "source": [
    "Q-4. What is the value of spam[-1]?"
   ]
  },
  {
   "cell_type": "code",
   "execution_count": null,
   "id": "b6ccf1ba",
   "metadata": {},
   "outputs": [],
   "source": [
    "Answer-4. \n",
    "spam[-1] will return'd'"
   ]
  },
  {
   "cell_type": "code",
   "execution_count": null,
   "id": "0cefe1ad",
   "metadata": {},
   "outputs": [],
   "source": [
    "Q-5. What is the value of spam[:2]?"
   ]
  },
  {
   "cell_type": "code",
   "execution_count": 13,
   "id": "31ac8d17",
   "metadata": {},
   "outputs": [],
   "source": [
    "Answer-5.\n",
    "\n",
    "spam[:2] will return ['a','b']"
   ]
  },
  {
   "cell_type": "code",
   "execution_count": null,
   "id": "6bfd5330",
   "metadata": {},
   "outputs": [],
   "source": [
    "Let's pretend bacon has the list [3.14, 'cat', 11, 'cat', True] for the next three question'\n",
    "Q-6. What is the value of bacon.index('cat')"
   ]
  },
  {
   "cell_type": "code",
   "execution_count": 16,
   "id": "9cbbbd6f",
   "metadata": {},
   "outputs": [],
   "source": [
    "Answer-6. \n",
    "\n",
    "bacon.index('cat') will return 1"
   ]
  },
  {
   "cell_type": "code",
   "execution_count": null,
   "id": "a41d24c6",
   "metadata": {},
   "outputs": [],
   "source": [
    "Q-7. How does bacon.append(99) change the look of the list value in bacon?"
   ]
  },
  {
   "cell_type": "code",
   "execution_count": null,
   "id": "1f00c4b5",
   "metadata": {},
   "outputs": [],
   "source": [
    "Answer-7.\n",
    "\n",
    " bacon.append(99) will modify the list as [3.14, 'cat', 11, 'cat', True, 99]"
   ]
  },
  {
   "cell_type": "code",
   "execution_count": 19,
   "id": "6189ac2d",
   "metadata": {},
   "outputs": [],
   "source": [
    "Q-8. How does bacon.remove('cat') change the look of the list in bacon?"
   ]
  },
  {
   "cell_type": "code",
   "execution_count": null,
   "id": "c886f441",
   "metadata": {},
   "outputs": [],
   "source": [
    "Answer-8.\n",
    "\n",
    "bacon.remove('cat')  willmodify the list as [3.14, 11, 'cat', True, 99]"
   ]
  },
  {
   "cell_type": "code",
   "execution_count": null,
   "id": "11ad8116",
   "metadata": {},
   "outputs": [],
   "source": [
    "Q-9. What are the list concatenation and list replication operators?"
   ]
  },
  {
   "cell_type": "code",
   "execution_count": null,
   "id": "ce39f644",
   "metadata": {},
   "outputs": [],
   "source": [
    "Answer-9.\n",
    "\n",
    "list concatenation operator is \"+\"\n",
    "while, list replication operator is \"*\"\n",
    "\n",
    "however, there are other methods to concatenate lists as well. like, list comprehension method, loop method, append method"
   ]
  },
  {
   "cell_type": "code",
   "execution_count": 24,
   "id": "9e6aecdd",
   "metadata": {},
   "outputs": [],
   "source": [
    "example list concatenation using + operator:\n",
    "\n",
    "l1=[1,2,3,4]\n",
    "l2=[5,6,7,8]\n",
    "l3=l1+l2 \n",
    "result= [1,2,3,4,5,6,7,8]\n",
    "\n",
    "using extend method:\n",
    "l1.extend(l2)\n",
    "result=[1,2,3,4,5,6,7,8]\n",
    "\n",
    "using append & loop method:\n",
    "for i in l2:\n",
    "    l1.append(i)\n",
    "result : l1=[1,2,3,4,5,6,7,8]\n",
    "        "
   ]
  },
  {
   "cell_type": "code",
   "execution_count": 59,
   "id": "ae51b801",
   "metadata": {},
   "outputs": [],
   "source": [
    "example of list replication:\n",
    "    l1*2=[1,2,3,4,1,2,3,4]"
   ]
  },
  {
   "cell_type": "code",
   "execution_count": null,
   "id": "c6d36715",
   "metadata": {},
   "outputs": [],
   "source": [
    "Q-10. What is difference between the list methods append() and insert()?"
   ]
  },
  {
   "cell_type": "code",
   "execution_count": null,
   "id": "05da3bd5",
   "metadata": {},
   "outputs": [],
   "source": [
    "Answer-10:\n",
    "    both  list.append() & list.insert() are object from list class\n",
    "list.apppend(value)= will add the value within the parenthesis to the end of the list\n",
    "list.insert(index,value)=it will add the value given in the parenthesis at thespecified index as given in the parenthesis\n",
    "\n",
    "consider below example:\n",
    "    l1=[1,2,3,4,5]\n",
    "    l1.append('a') : Result=[1,2,3,4,5,'a']\n",
    "    l1.insert(1,'a'): Result=[1,'a',2,3,4,5]"
   ]
  },
  {
   "cell_type": "code",
   "execution_count": null,
   "id": "b87fc312",
   "metadata": {},
   "outputs": [],
   "source": [
    "Q-11. What are the two methods for removing items from a list?"
   ]
  },
  {
   "cell_type": "code",
   "execution_count": 33,
   "id": "6ac322ac",
   "metadata": {},
   "outputs": [],
   "source": [
    "Answer-11.\n",
    "1st method is pop:\n",
    "    Syntax: list.pop() \n",
    "        if any numerical value is given inside parenthese it will remove the list item present at the index equal to the given value in parenthesis\n",
    "        otherwise if the parenthesis are passed blank it will remove the item at the last index of the list\n",
    "        Also this method mutates the list.\n",
    "2nd Method is remove:\n",
    "    syntax: list.remove(value)\n",
    "        it will remove the first occurence of the value which has been inside theparenthesis from the list\n",
    "        passing a valid value which would be present in the list is mandatory for this method otherwise it will throw us an error.\n",
    "\n",
    "3rd Method is clear:\n",
    "    syntax: list.clear()\n",
    "        this removed all the items of the list\n",
    "        here, parenthesis can not take any argument\n",
    "\n",
    "        "
   ]
  },
  {
   "cell_type": "code",
   "execution_count": 78,
   "id": "2a7bd04f",
   "metadata": {},
   "outputs": [],
   "source": [
    "Q-12. Describe how list values and string values are identical."
   ]
  },
  {
   "cell_type": "code",
   "execution_count": null,
   "id": "88455fb1",
   "metadata": {},
   "outputs": [],
   "source": [
    "Answer-12.\n",
    "List values and string values are identical as  both are sequences and \n",
    "same indexing concept and slicing method are used for both\n",
    "\n",
    "difference is that while list are mutable strings are imMutable \n",
    "while list items can be of of different data type, string can only take characters which are of string datatype\n",
    "\n",
    "Below are example of their similarity"
   ]
  },
  {
   "cell_type": "code",
   "execution_count": null,
   "id": "78b4e128",
   "metadata": {},
   "outputs": [],
   "source": [
    "l=['i','n','e','u','r','o','n']\n",
    "s='Rahuul'\n",
    "\n",
    "l[::-1]=['n', 'o', 'r', 'u', 'e', 'n', 'i']\n",
    "s[::-1]='luuhaR'\n",
    "\n",
    "l[1]='n'\n",
    "s[1]='a'"
   ]
  },
  {
   "cell_type": "code",
   "execution_count": null,
   "id": "3d5a5f7e",
   "metadata": {},
   "outputs": [],
   "source": [
    "Q-13.What's the difference between tuples and lists?"
   ]
  },
  {
   "cell_type": "code",
   "execution_count": 94,
   "id": "571da515",
   "metadata": {},
   "outputs": [],
   "source": [
    "Answer-13.\n",
    "List & Tuple both are datatype which can take different types of datatypes,\n",
    "Only difference is the whilelist are mutable, tuples are immutable\n",
    "\n",
    "Example:\n",
    "    l=[1,2,3,4]\n",
    "    t=(5,6,7,8)\n",
    "    \n",
    "    l[0]='a' will give l=['a',2,3,4]\n",
    "    whereas t[index] =value will not reassign the tuple items as, once tuple is created it can not be changed or modified"
   ]
  },
  {
   "cell_type": "code",
   "execution_count": null,
   "id": "4d4a14a2",
   "metadata": {},
   "outputs": [],
   "source": [
    "Q-14. How do you type a tuple value that only contains the integer 42?"
   ]
  },
  {
   "cell_type": "code",
   "execution_count": null,
   "id": "68f2c3cf",
   "metadata": {},
   "outputs": [],
   "source": [
    "Answer-14.\n",
    "\n",
    "t=(42,) \n",
    "will create a tuple of single item of value 42"
   ]
  },
  {
   "cell_type": "code",
   "execution_count": null,
   "id": "bde10cd7",
   "metadata": {},
   "outputs": [],
   "source": [
    "Q-15. How do you get a list value's tuple form? How do you get a tuple value's list form?"
   ]
  },
  {
   "cell_type": "code",
   "execution_count": 101,
   "id": "fe4843ae",
   "metadata": {},
   "outputs": [],
   "source": [
    "Answer-15.\n",
    "By type casting operation we can get list values in tuple form and tuple values in list form\n",
    "\n",
    "example:\n",
    "    l1=[1,2,3,4,5]\n",
    "    t1=tuple(l1) will give us a tuple \"t1\" as (1,2,3,4,5)\n",
    "    \n",
    "    now if we have a tuple t2=('a','b','c','d'),\n",
    "    then list(t2) will give us a list 'l2' as ['a','b','c','d']\n",
    "    \n",
    "Now, typecasting of a tuple to a list typle should not be confused with as a contradiction to immutability law of tuples, as \n",
    "in the above example by type casting tuple 't2' in list 'l2', we are only creating a list with values similar to tuple t2\n",
    "the original tuple t2 remain intact as ('a','b','c','d')"
   ]
  },
  {
   "cell_type": "code",
   "execution_count": null,
   "id": "0a671850",
   "metadata": {},
   "outputs": [],
   "source": [
    "Q-16. Variables that \"contain\" list values are not necessarily lists themselves. Instead, what do they\n",
    "contain?"
   ]
  },
  {
   "cell_type": "code",
   "execution_count": null,
   "id": "17a6e803",
   "metadata": {},
   "outputs": [],
   "source": [
    "Answer-16.\n",
    "Those variable only contain the references to the list values."
   ]
  },
  {
   "cell_type": "code",
   "execution_count": null,
   "id": "4ace3925",
   "metadata": {},
   "outputs": [],
   "source": [
    "Q-17. How do you distinguish between copy.copy() and copy.deepcopy()?"
   ]
  },
  {
   "cell_type": "code",
   "execution_count": null,
   "id": "65c92c8a",
   "metadata": {},
   "outputs": [],
   "source": [
    "Answer-17:\n",
    "contrary to the general intuition the assignment operator '=' in python do not create a copy of the object, \n",
    "but just only create a variable that shares the reference of the target variable/object.\n",
    "for creating real clone of the variable/object there is copy module in python which can be used.\n",
    "\n",
    "Both copy.copy() & copy.deepcopy() are object from copy module of python\n",
    "    copy.copy() is called shallowcopy \n",
    "    copy.deepcopy() is a deepcopy\n",
    "    \n",
    "shallow copy does change the original copy if a change is made in the cchild(copied) object\n",
    "in Deep copy a change made in child object does not affect original object\n",
    "\n",
    "consider below example for better understanding, difference is apparent in the below example."
   ]
  },
  {
   "cell_type": "code",
   "execution_count": 145,
   "id": "21f9cb97",
   "metadata": {},
   "outputs": [],
   "source": [
    "import copy\n",
    "l1=[1,2,3,4,['a','b','c','d',[45,56,67,78,89]]]\n",
    "\n",
    "l2=copy.deepcopy(l1)\n",
    "\n",
    "l3=copy.copy(l1)"
   ]
  },
  {
   "cell_type": "code",
   "execution_count": 146,
   "id": "8dcf696b",
   "metadata": {},
   "outputs": [
    {
     "name": "stdout",
     "output_type": "stream",
     "text": [
      "Deep copy Version: [1, 2, 3, 4, ['a', 'b', 'c', 'd', ['mango', 56, 67, 78, 89]]]\n",
      "Original list after deepcopy operation: [1, 2, 3, 4, ['a', 'b', 'c', 'd', [45, 56, 67, 78, 89]]]\n"
     ]
    }
   ],
   "source": [
    "l2[4][4][0]='mango'\n",
    "print('Deep copy Version:', l2)\n",
    "\n",
    "print('Original list after deepcopy operation:', l1)"
   ]
  },
  {
   "cell_type": "code",
   "execution_count": 147,
   "id": "3abdf3dc",
   "metadata": {},
   "outputs": [
    {
     "name": "stdout",
     "output_type": "stream",
     "text": [
      "Shallow Copy Version: [1, 2, 3, 4, ['a', 'b', 'c', 'd', ['banana', 56, 67, 78, 89]]]\n",
      "original list after shallow copy operation: [1, 2, 3, 4, ['a', 'b', 'c', 'd', ['banana', 56, 67, 78, 89]]]\n"
     ]
    }
   ],
   "source": [
    "l3[4][4][0]='banana'\n",
    "print('Shallow Copy Version:', l3)\n",
    "\n",
    "print('original list after shallow copy operation:', l1)"
   ]
  }
 ],
 "metadata": {
  "kernelspec": {
   "display_name": "Python 3 (ipykernel)",
   "language": "python",
   "name": "python3"
  },
  "language_info": {
   "codemirror_mode": {
    "name": "ipython",
    "version": 3
   },
   "file_extension": ".py",
   "mimetype": "text/x-python",
   "name": "python",
   "nbconvert_exporter": "python",
   "pygments_lexer": "ipython3",
   "version": "3.9.12"
  }
 },
 "nbformat": 4,
 "nbformat_minor": 5
}
